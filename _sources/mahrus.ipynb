{
  "nbformat": 4,
  "nbformat_minor": 0,
  "metadata": {
    "colab": {
      "provenance": []
    },
    "kernelspec": {
      "name": "python3",
      "display_name": "Python 3"
    },
    "language_info": {
      "name": "python"
    }
  },
  "cells": [
    {
      "cell_type": "markdown",
      "source": [
        "# **judul**\n"
      ],
      "metadata": {
        "id": "F8ZC1CT5uRd4"
      }
    },
    {
      "cell_type": "markdown",
      "source": [
        "link gdocs : https://docs.google.com/document/d/1cJBRercSBXCNi0f75mN37c8WzaxMSVtGSRxQZbUrfJs/edit?usp=sharing"
      ],
      "metadata": {
        "id": "lzBzhqrZnckT"
      }
    },
    {
      "cell_type": "markdown",
      "source": [
        "# **1. Pendahuluan**"
      ],
      "metadata": {
        "id": "E8GE5ArNgNZV"
      }
    },
    {
      "cell_type": "markdown",
      "source": [
        "## **1.1.  Latar Belakang**"
      ],
      "metadata": {
        "id": "LliWUVXcgbev"
      }
    },
    {
      "cell_type": "markdown",
      "source": [
        "Dalam industri susu, mempertahankan kualitas produk adalah salah satu faktor penting yang menentukan keberhasilan suatu bisnis. visi dan misi perusahaan susu adalah memproduksi susu yang berkualitas tinggi  untuk meraih kepercayaan pelanggan dan juga memainkan peran penting dalam membedakan perusahaan dari para pesaing di pasar. Perusahaan susu menerapkan beberapa strategi bisnis yang baik untuk mencapai tujuan tersebut. Strategi ini tidak hanya berfokus pada visi dan misi perusahaan untuk menyediakan susu berkualitas tinggi, tetapi juga meningkatkan efisiensi operasi.\n",
        "Perusahaan secara aktif melakukan penelitian dan pengembangan untuk meningkatkan berbagai aspek kualitas susu, seperti rasa, nutrisi, dan daya tahan produk. Inovasi ini termasuk penyempurnaan formulasi produk, seperti meningkatkan kandungan nutrisi atau mengurangi bahan tambahan yang tidak diinginkan. Selain itu, perusahaan menggunakan teknologi terkini dalam proses produksi untuk memastikan konsistensi dan efisiensi. Teknologi terkini seperti sistem pemantauan otomatis dan teknik pemrosesan yang paling efisien membantu mempertahankan standar kualitas yang tinggi dan memastikan bahwa produk akhir memenuhi harapan pelanggan.tetapi juga pada peningkatan proses produksi untuk memastikan bahwa setiap produk yang dihasilkan memenuhi standar kualitas yang ketat. dan juga mengurangi kemungkinan produk yang tidak memenuhi standar.\n"
      ],
      "metadata": {
        "id": "xN4qVmu-hpZ9"
      }
    },
    {
      "cell_type": "markdown",
      "source": [
        "## **1.2.  Tujuan**"
      ],
      "metadata": {
        "id": "E36dNzZWg4DQ"
      }
    },
    {
      "cell_type": "markdown",
      "source": [
        "Tujuan utama analisis data ini adalah untuk membantu perusahaan memastikan bahwa pasar susunya memenuhi standar kualitas industri yang tinggi. Dengan menggunakan teknik penilaian kualitas susu, perusahaan dapat secara otomatis mengidentifikasi produk yang mungkin memiliki kualitas rendah sebelum sampai ke tangan konsumen. Proses ini penting karena memastikan hanya produk yang memenuhi standar ketat yang ditetapkan di pasar, meningkatkan kepuasan pelanggan dan melindungi pelanggan.\n",
        "\n",
        "Pentingnya penilaian kualitas susu memungkinkan perusahaan untuk menemukan dan mengatasi masalah kualitas dengan cepat dan efisien. Dalam kasus ini, model pembelajaran mesin memungkinkan perusahaan untuk memprediksi kualitas produk secara otomatis, yang memungkinkan mereka untuk menemukan dan menganalisis masalah yang mungkin terjadi sebelum mempengaruhi keseluruhan proses produksi. Dengan mengidentifikasi masalah sejak dini, perusahaan dapat melakukan perbaikan yang diperlukan untuk meningkatkan kualitas produk dan mencegah dampak negatif dari produk yang diproduksi di bawah standar.\n",
        "\n",
        "Secara keseluruhan, model pembelajaran mesin dalam analisis kualitas susu membantu perusahaan menjaga keamanan produk mereka, meningkatkan kepuasan pelanggan, dan memastikan mereka memenuhi standar industri. Hal ini meningkatkan posisi perusahaan di pasar dan meningkatkan kesuksesan jangka panjang dan daya tariknya."
      ],
      "metadata": {
        "id": "zqfs-osj6gZc"
      }
    },
    {
      "cell_type": "markdown",
      "source": [
        "##  **1.3.  Rumusan Masalah**"
      ],
      "metadata": {
        "id": "XhgaNdkXhK34"
      }
    },
    {
      "cell_type": "markdown",
      "source": [
        "Beberapa aspek penting termasuk dalam masalah klasifikasi kualitas susu.\n",
        "1. Bagaimana perusahaan dapat memastikan bahwa kualitas susu tetap konsisten dan sesuai dengan standar yang ditetapkan di setiap tahap produksi?\n",
        "\n",
        "2. Metode klasifikasi apa yang paling efisien untuk menemukan masalah potensial kualitas susu secara dini dengan mempertimbangkan berbagai parameter seperti suhu, rasa, odor, lemak, kekentalan, warna, dan pH?\n",
        "    \n",
        "3. Bagaimana menggabungkan berbagai teknik klasifikasi untuk memantau kualitas susu secara real-time untuk memastikan bahwa produk yang dihasilkan selalu memenuhi standar kualitas tinggi?\n"
      ],
      "metadata": {
        "id": "IpPouL8HmXBC"
      }
    }
  ]
}